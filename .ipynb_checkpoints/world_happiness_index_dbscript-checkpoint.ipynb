{
 "cells": [
  {
   "cell_type": "code",
   "execution_count": null,
   "metadata": {},
   "outputs": [],
   "source": [
    "#pip install psycopg2-binary "
   ]
  },
  {
   "cell_type": "code",
   "execution_count": null,
   "metadata": {},
   "outputs": [],
   "source": [
    "#psychopg  for query better performance\n",
    "import numpy as np\n",
    "import pandas as pd\n",
    "import psycopg2\n",
    "# import sqlalchemy\n",
    "# from sqlalchemy.ext.automap import automap_base\n",
    "# from sqlalchemy.orm import Session\n",
    "# from sqlalchemy import create_engine, func\n"
   ]
  },
  {
   "cell_type": "code",
   "execution_count": null,
   "metadata": {},
   "outputs": [],
   "source": [
    "conn = psycopg2.connect(database=\"world_happiness_index\", user = \"postgres\", password = \"password\", host = \"127.0.0.1\", port = \"5432\")\n"
   ]
  },
  {
   "cell_type": "code",
   "execution_count": null,
   "metadata": {},
   "outputs": [],
   "source": [
    "# cur = conn.cursor()\n",
    "# cur.execute('''DROP TABLE year_2019;''')\n",
    "\n",
    "\n",
    "# conn.commit()\n",
    "# cur.close()"
   ]
  },
  {
   "cell_type": "code",
   "execution_count": null,
   "metadata": {},
   "outputs": [],
   "source": [
    "cur = conn.cursor()\n",
    "cur.execute('''CREATE TABLE IF NOT EXISTS year_2015 (\n",
    "\tcountry VARCHAR(255),\n",
    "\thappiness_rank INT,\n",
    "\thappiness_score FLOAT,\n",
    "\teconomy FLOAT,\n",
    "\thealth FLOAT,\n",
    "\tfreedom FLOAT,\n",
    "\tcorruption FLOAT,\n",
    "\tgenerosity FLOAT\n",
    "\n",
    ");''')\n",
    "\n",
    "\n",
    "conn.commit()\n",
    "cur.close()"
   ]
  },
  {
   "cell_type": "code",
   "execution_count": null,
   "metadata": {},
   "outputs": [],
   "source": [
    "cur = conn.cursor()\n",
    "cur.execute('''CREATE TABLE IF NOT EXISTS year_2016 (\n",
    "\tcountry VARCHAR(255),\n",
    "\thappiness_rank INT,\n",
    "\thappiness_score FLOAT,\n",
    "\teconomy FLOAT,\n",
    "\thealth FLOAT,\n",
    "\tfreedom FLOAT,\n",
    "\tcorruption FLOAT,\n",
    "\tgenerosity FLOAT\n",
    "\n",
    ");''')\n",
    "\n",
    "\n",
    "conn.commit()\n",
    "cur.close()"
   ]
  },
  {
   "cell_type": "code",
   "execution_count": null,
   "metadata": {},
   "outputs": [],
   "source": [
    "cur = conn.cursor()\n",
    "cur.execute('''CREATE TABLE IF NOT EXISTS year_2017 (\n",
    "\tcountry VARCHAR(255),\n",
    "\thappiness_rank INT,\n",
    "\thappiness_score FLOAT,\n",
    "\teconomy FLOAT,\n",
    "\thealth FLOAT,\n",
    "\tfreedom FLOAT,\n",
    "\tcorruption FLOAT,\n",
    "\tgenerosity FLOAT\n",
    "\n",
    ");''')\n",
    "\n",
    "\n",
    "conn.commit()\n",
    "cur.close()"
   ]
  },
  {
   "cell_type": "code",
   "execution_count": null,
   "metadata": {},
   "outputs": [],
   "source": [
    "cur = conn.cursor()\n",
    "cur.execute('''CREATE TABLE IF NOT EXISTS year_2018 (\n",
    "\thappiness_rank INT,\n",
    "\tcountry VARCHAR(255),\n",
    "\thappiness_score FLOAT,\n",
    "\teconomy FLOAT,\n",
    "\thealth FLOAT,\n",
    "\tfreedom FLOAT,\n",
    "\tgenerosity FLOAT,\n",
    "\tcorruption FLOAT\n",
    "\t\n",
    "\n",
    ");''')\n",
    "\n",
    "\n",
    "conn.commit()\n",
    "cur.close()"
   ]
  },
  {
   "cell_type": "code",
   "execution_count": null,
   "metadata": {},
   "outputs": [],
   "source": [
    "cur = conn.cursor()\n",
    "cur.execute('''CREATE TABLE IF NOT EXISTS year_2019 (\n",
    "\thappiness_rank INT,\n",
    "\tcountry VARCHAR(255),\n",
    "\thappiness_score FLOAT,\n",
    "\teconomy FLOAT,\n",
    "\thealth FLOAT,\n",
    "\tfreedom FLOAT,\n",
    "\tgenerosity FLOAT,\n",
    "\tcorruption FLOAT\n",
    "\t\n",
    "\n",
    ");''')\n",
    "\n",
    "\n",
    "conn.commit()\n",
    "cur.close()"
   ]
  },
  {
   "cell_type": "code",
   "execution_count": null,
   "metadata": {},
   "outputs": [],
   "source": [
    "\n",
    "file_names = [\"data/2015.csv\",\"data/2016.csv\",\"data/2017.csv\",\"data/2018.csv\",\"data/2019.csv\"]\n",
    "table_names = [\"year_2015\",\"year_2016\",\"year_2017\",\"year_2018\",\"year_2019\"]\n",
    "\n",
    "\n",
    "for file_name, table_name in zip(file_names,table_names ):\n",
    "    print(file_name, table_name)"
   ]
  },
  {
   "cell_type": "code",
   "execution_count": null,
   "metadata": {},
   "outputs": [],
   "source": [
    "\n",
    "file_names = [\"data/2015.csv\",\"data/2016.csv\",\"data/2017.csv\",\"data/2018.csv\",\"data/2019.csv\"]\n",
    "table_names = [\"year_2015\",\"year_2016\",\"year_2017\",\"year_2018\",\"year_2019\"]\n",
    "\n",
    "\n",
    "for file_name, table_name in zip(file_names,table_names):\n",
    "    cur = conn.cursor()\n",
    "    with open(file_name, 'r') as f:\n",
    "        # Notice that we don't need the `csv` module.\n",
    "        next(f) # Skip the header row.\n",
    "        cur.copy_from(f, table_name, sep=',')\n",
    "    conn.commit()"
   ]
  },
  {
   "cell_type": "code",
   "execution_count": null,
   "metadata": {},
   "outputs": [],
   "source": [
    "cur = conn.cursor()\n",
    "cur.execute('''SELECT * FROM year_2017;''')\n",
    "\n",
    "rows = cur.fetchall()\n",
    "\n",
    "for row in rows:\n",
    "    print(row)\n",
    "\n",
    "    \n",
    "cur.close()"
   ]
  },
  {
   "cell_type": "code",
   "execution_count": null,
   "metadata": {},
   "outputs": [],
   "source": [
    "conn.close()"
   ]
  },
  {
   "cell_type": "code",
   "execution_count": null,
   "metadata": {},
   "outputs": [],
   "source": []
  }
 ],
 "metadata": {
  "kernelspec": {
   "display_name": "Python 3",
   "language": "python",
   "name": "python3"
  },
  "language_info": {
   "codemirror_mode": {
    "name": "ipython",
    "version": 3
   },
   "file_extension": ".py",
   "mimetype": "text/x-python",
   "name": "python",
   "nbconvert_exporter": "python",
   "pygments_lexer": "ipython3",
   "version": "3.8.3"
  }
 },
 "nbformat": 4,
 "nbformat_minor": 4
}
