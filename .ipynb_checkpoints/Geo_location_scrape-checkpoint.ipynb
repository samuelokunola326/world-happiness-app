{
 "cells": [
  {
   "cell_type": "code",
<<<<<<< HEAD
   "execution_count": null,
   "metadata": {},
   "outputs": [],
   "source": []
=======
   "execution_count": 21,
   "metadata": {},
   "outputs": [
    {
     "name": "stdout",
     "output_type": "stream",
     "text": [
      "Collecting csv_to_sqlite\n",
      "  Downloading csv_to_sqlite-2.1.1-py3-none-any.whl (12 kB)\n",
      "Requirement already satisfied: click in /Users/julissaguzman/opt/anaconda3/envs/PythonData/lib/python3.6/site-packages (from csv_to_sqlite) (7.1.2)\n",
      "Installing collected packages: csv-to-sqlite\n",
      "Successfully installed csv-to-sqlite-2.1.1\n"
     ]
    }
   ],
   "source": [
    "!pip install csv_to_sqlite\n"
   ]
  },
  {
   "cell_type": "code",
   "execution_count": 22,
   "metadata": {},
   "outputs": [],
   "source": [
    "import pandas as pd\n",
    "import numpy as np\n",
    "from sqlalchemy import create_engine\n",
    "import csv_to_sqlite"
   ]
  },
  {
   "cell_type": "code",
   "execution_count": 23,
   "metadata": {},
   "outputs": [],
   "source": [
    "data_2015 = \"data/2015.csv\"\n",
    "data_2016 = \"data/2016.csv\"\n",
    "data_2017 = \"data/2017.csv\"\n",
    "data_2018 = \"data/2018.csv\"\n",
    "data_2019 = \"data/2019.csv\""
   ]
  },
  {
   "cell_type": "code",
   "execution_count": 24,
   "metadata": {},
   "outputs": [
    {
     "data": {
      "text/html": [
       "<div>\n",
       "<style scoped>\n",
       "    .dataframe tbody tr th:only-of-type {\n",
       "        vertical-align: middle;\n",
       "    }\n",
       "\n",
       "    .dataframe tbody tr th {\n",
       "        vertical-align: top;\n",
       "    }\n",
       "\n",
       "    .dataframe thead th {\n",
       "        text-align: right;\n",
       "    }\n",
       "</style>\n",
       "<table border=\"1\" class=\"dataframe\">\n",
       "  <thead>\n",
       "    <tr style=\"text-align: right;\">\n",
       "      <th></th>\n",
       "      <th>country</th>\n",
       "      <th>happiness_rank</th>\n",
       "      <th>happiness_score</th>\n",
       "      <th>economy</th>\n",
       "      <th>health</th>\n",
       "      <th>freedom</th>\n",
       "      <th>corruption</th>\n",
       "      <th>generosity</th>\n",
       "    </tr>\n",
       "  </thead>\n",
       "  <tbody>\n",
       "    <tr>\n",
       "      <th>0</th>\n",
       "      <td>Afghanistan</td>\n",
       "      <td>153</td>\n",
       "      <td>3.575</td>\n",
       "      <td>0.3198</td>\n",
       "      <td>0.3034</td>\n",
       "      <td>0.2341</td>\n",
       "      <td>0.0972</td>\n",
       "      <td>0.3651</td>\n",
       "    </tr>\n",
       "    <tr>\n",
       "      <th>1</th>\n",
       "      <td>Albania</td>\n",
       "      <td>95</td>\n",
       "      <td>4.959</td>\n",
       "      <td>0.8787</td>\n",
       "      <td>0.8133</td>\n",
       "      <td>0.3573</td>\n",
       "      <td>0.0641</td>\n",
       "      <td>0.1427</td>\n",
       "    </tr>\n",
       "    <tr>\n",
       "      <th>2</th>\n",
       "      <td>Algeria</td>\n",
       "      <td>68</td>\n",
       "      <td>5.605</td>\n",
       "      <td>0.9393</td>\n",
       "      <td>0.6177</td>\n",
       "      <td>0.2858</td>\n",
       "      <td>0.1738</td>\n",
       "      <td>0.0782</td>\n",
       "    </tr>\n",
       "    <tr>\n",
       "      <th>3</th>\n",
       "      <td>Argentina</td>\n",
       "      <td>30</td>\n",
       "      <td>6.574</td>\n",
       "      <td>1.0535</td>\n",
       "      <td>0.7872</td>\n",
       "      <td>0.4497</td>\n",
       "      <td>0.0848</td>\n",
       "      <td>0.1145</td>\n",
       "    </tr>\n",
       "    <tr>\n",
       "      <th>4</th>\n",
       "      <td>Armenia</td>\n",
       "      <td>127</td>\n",
       "      <td>4.350</td>\n",
       "      <td>0.7682</td>\n",
       "      <td>0.7299</td>\n",
       "      <td>0.1985</td>\n",
       "      <td>0.0390</td>\n",
       "      <td>0.0786</td>\n",
       "    </tr>\n",
       "  </tbody>\n",
       "</table>\n",
       "</div>"
      ],
      "text/plain": [
       "       country  happiness_rank  happiness_score  economy  health  freedom  \\\n",
       "0  Afghanistan             153            3.575   0.3198  0.3034   0.2341   \n",
       "1      Albania              95            4.959   0.8787  0.8133   0.3573   \n",
       "2      Algeria              68            5.605   0.9393  0.6177   0.2858   \n",
       "3    Argentina              30            6.574   1.0535  0.7872   0.4497   \n",
       "4      Armenia             127            4.350   0.7682  0.7299   0.1985   \n",
       "\n",
       "   corruption  generosity  \n",
       "0      0.0972      0.3651  \n",
       "1      0.0641      0.1427  \n",
       "2      0.1738      0.0782  \n",
       "3      0.0848      0.1145  \n",
       "4      0.0390      0.0786  "
      ]
     },
     "execution_count": 24,
     "metadata": {},
     "output_type": "execute_result"
    }
   ],
   "source": [
    "data_2015 = pd.read_csv(data_2015)\n",
    "data_2015.head(5)"
   ]
  },
  {
   "cell_type": "code",
   "execution_count": 25,
   "metadata": {},
   "outputs": [
    {
     "data": {
      "text/html": [
       "<div>\n",
       "<style scoped>\n",
       "    .dataframe tbody tr th:only-of-type {\n",
       "        vertical-align: middle;\n",
       "    }\n",
       "\n",
       "    .dataframe tbody tr th {\n",
       "        vertical-align: top;\n",
       "    }\n",
       "\n",
       "    .dataframe thead th {\n",
       "        text-align: right;\n",
       "    }\n",
       "</style>\n",
       "<table border=\"1\" class=\"dataframe\">\n",
       "  <thead>\n",
       "    <tr style=\"text-align: right;\">\n",
       "      <th></th>\n",
       "      <th>country</th>\n",
       "      <th>happiness_rank</th>\n",
       "      <th>happiness_score</th>\n",
       "      <th>economy</th>\n",
       "      <th>health</th>\n",
       "      <th>freedom</th>\n",
       "      <th>corruption</th>\n",
       "      <th>generosity</th>\n",
       "    </tr>\n",
       "  </thead>\n",
       "  <tbody>\n",
       "    <tr>\n",
       "      <th>0</th>\n",
       "      <td>Afghanistan</td>\n",
       "      <td>154</td>\n",
       "      <td>3.360</td>\n",
       "      <td>0.3823</td>\n",
       "      <td>0.1734</td>\n",
       "      <td>0.1643</td>\n",
       "      <td>0.0711</td>\n",
       "      <td>0.3127</td>\n",
       "    </tr>\n",
       "    <tr>\n",
       "      <th>1</th>\n",
       "      <td>Albania</td>\n",
       "      <td>109</td>\n",
       "      <td>4.655</td>\n",
       "      <td>0.9553</td>\n",
       "      <td>0.7301</td>\n",
       "      <td>0.3187</td>\n",
       "      <td>0.0530</td>\n",
       "      <td>0.1684</td>\n",
       "    </tr>\n",
       "    <tr>\n",
       "      <th>2</th>\n",
       "      <td>Algeria</td>\n",
       "      <td>38</td>\n",
       "      <td>6.355</td>\n",
       "      <td>1.0527</td>\n",
       "      <td>0.6180</td>\n",
       "      <td>0.2101</td>\n",
       "      <td>0.1616</td>\n",
       "      <td>0.0704</td>\n",
       "    </tr>\n",
       "    <tr>\n",
       "      <th>3</th>\n",
       "      <td>Argentina</td>\n",
       "      <td>26</td>\n",
       "      <td>6.650</td>\n",
       "      <td>1.1514</td>\n",
       "      <td>0.6971</td>\n",
       "      <td>0.4228</td>\n",
       "      <td>0.0730</td>\n",
       "      <td>0.1099</td>\n",
       "    </tr>\n",
       "    <tr>\n",
       "      <th>4</th>\n",
       "      <td>Armenia</td>\n",
       "      <td>121</td>\n",
       "      <td>4.360</td>\n",
       "      <td>0.8609</td>\n",
       "      <td>0.6408</td>\n",
       "      <td>0.1404</td>\n",
       "      <td>0.0362</td>\n",
       "      <td>0.0779</td>\n",
       "    </tr>\n",
       "  </tbody>\n",
       "</table>\n",
       "</div>"
      ],
      "text/plain": [
       "       country  happiness_rank  happiness_score  economy  health  freedom  \\\n",
       "0  Afghanistan             154            3.360   0.3823  0.1734   0.1643   \n",
       "1      Albania             109            4.655   0.9553  0.7301   0.3187   \n",
       "2      Algeria              38            6.355   1.0527  0.6180   0.2101   \n",
       "3    Argentina              26            6.650   1.1514  0.6971   0.4228   \n",
       "4      Armenia             121            4.360   0.8609  0.6408   0.1404   \n",
       "\n",
       "   corruption  generosity  \n",
       "0      0.0711      0.3127  \n",
       "1      0.0530      0.1684  \n",
       "2      0.1616      0.0704  \n",
       "3      0.0730      0.1099  \n",
       "4      0.0362      0.0779  "
      ]
     },
     "execution_count": 25,
     "metadata": {},
     "output_type": "execute_result"
    }
   ],
   "source": [
    "data_2015 = pd.read_csv(data_2016)\n",
    "data_2015.head(5)"
   ]
  },
  {
   "cell_type": "code",
   "execution_count": 26,
   "metadata": {},
   "outputs": [
    {
     "data": {
      "text/html": [
       "<div>\n",
       "<style scoped>\n",
       "    .dataframe tbody tr th:only-of-type {\n",
       "        vertical-align: middle;\n",
       "    }\n",
       "\n",
       "    .dataframe tbody tr th {\n",
       "        vertical-align: top;\n",
       "    }\n",
       "\n",
       "    .dataframe thead th {\n",
       "        text-align: right;\n",
       "    }\n",
       "</style>\n",
       "<table border=\"1\" class=\"dataframe\">\n",
       "  <thead>\n",
       "    <tr style=\"text-align: right;\">\n",
       "      <th></th>\n",
       "      <th>country</th>\n",
       "      <th>happiness_rank</th>\n",
       "      <th>happiness_score</th>\n",
       "      <th>economy</th>\n",
       "      <th>health</th>\n",
       "      <th>freedom</th>\n",
       "      <th>generosity</th>\n",
       "      <th>corruption</th>\n",
       "    </tr>\n",
       "  </thead>\n",
       "  <tbody>\n",
       "    <tr>\n",
       "      <th>0</th>\n",
       "      <td>Afghanistan</td>\n",
       "      <td>141</td>\n",
       "      <td>3.794</td>\n",
       "      <td>0.4015</td>\n",
       "      <td>0.1807</td>\n",
       "      <td>0.1062</td>\n",
       "      <td>0.3119</td>\n",
       "      <td>0.0612</td>\n",
       "    </tr>\n",
       "    <tr>\n",
       "      <th>1</th>\n",
       "      <td>Albania</td>\n",
       "      <td>109</td>\n",
       "      <td>4.644</td>\n",
       "      <td>0.9962</td>\n",
       "      <td>0.7312</td>\n",
       "      <td>0.3815</td>\n",
       "      <td>0.2013</td>\n",
       "      <td>0.0399</td>\n",
       "    </tr>\n",
       "    <tr>\n",
       "      <th>2</th>\n",
       "      <td>Algeria</td>\n",
       "      <td>53</td>\n",
       "      <td>5.872</td>\n",
       "      <td>1.0919</td>\n",
       "      <td>0.6176</td>\n",
       "      <td>0.2333</td>\n",
       "      <td>0.0694</td>\n",
       "      <td>0.1461</td>\n",
       "    </tr>\n",
       "    <tr>\n",
       "      <th>3</th>\n",
       "      <td>Argentina</td>\n",
       "      <td>24</td>\n",
       "      <td>6.599</td>\n",
       "      <td>1.1853</td>\n",
       "      <td>0.6951</td>\n",
       "      <td>0.4945</td>\n",
       "      <td>0.1095</td>\n",
       "      <td>0.0597</td>\n",
       "    </tr>\n",
       "    <tr>\n",
       "      <th>4</th>\n",
       "      <td>Armenia</td>\n",
       "      <td>121</td>\n",
       "      <td>4.376</td>\n",
       "      <td>0.9006</td>\n",
       "      <td>0.6375</td>\n",
       "      <td>0.1983</td>\n",
       "      <td>0.0835</td>\n",
       "      <td>0.0267</td>\n",
       "    </tr>\n",
       "  </tbody>\n",
       "</table>\n",
       "</div>"
      ],
      "text/plain": [
       "       country  happiness_rank  happiness_score  economy  health  freedom  \\\n",
       "0  Afghanistan             141            3.794   0.4015  0.1807   0.1062   \n",
       "1      Albania             109            4.644   0.9962  0.7312   0.3815   \n",
       "2      Algeria              53            5.872   1.0919  0.6176   0.2333   \n",
       "3    Argentina              24            6.599   1.1853  0.6951   0.4945   \n",
       "4      Armenia             121            4.376   0.9006  0.6375   0.1983   \n",
       "\n",
       "   generosity  corruption  \n",
       "0      0.3119      0.0612  \n",
       "1      0.2013      0.0399  \n",
       "2      0.0694      0.1461  \n",
       "3      0.1095      0.0597  \n",
       "4      0.0835      0.0267  "
      ]
     },
     "execution_count": 26,
     "metadata": {},
     "output_type": "execute_result"
    }
   ],
   "source": [
    "data_2015 = pd.read_csv(data_2017)\n",
    "data_2015.head(5)"
   ]
  },
  {
   "cell_type": "code",
   "execution_count": 27,
   "metadata": {},
   "outputs": [
    {
     "data": {
      "text/html": [
       "<div>\n",
       "<style scoped>\n",
       "    .dataframe tbody tr th:only-of-type {\n",
       "        vertical-align: middle;\n",
       "    }\n",
       "\n",
       "    .dataframe tbody tr th {\n",
       "        vertical-align: top;\n",
       "    }\n",
       "\n",
       "    .dataframe thead th {\n",
       "        text-align: right;\n",
       "    }\n",
       "</style>\n",
       "<table border=\"1\" class=\"dataframe\">\n",
       "  <thead>\n",
       "    <tr style=\"text-align: right;\">\n",
       "      <th></th>\n",
       "      <th>happiness_rank</th>\n",
       "      <th>country</th>\n",
       "      <th>happiness_score</th>\n",
       "      <th>economy</th>\n",
       "      <th>health</th>\n",
       "      <th>freedom</th>\n",
       "      <th>generosity</th>\n",
       "      <th>corruption</th>\n",
       "    </tr>\n",
       "  </thead>\n",
       "  <tbody>\n",
       "    <tr>\n",
       "      <th>0</th>\n",
       "      <td>145</td>\n",
       "      <td>Afghanistan</td>\n",
       "      <td>3.632</td>\n",
       "      <td>0.332</td>\n",
       "      <td>0.255</td>\n",
       "      <td>0.085</td>\n",
       "      <td>0.191</td>\n",
       "      <td>0.036</td>\n",
       "    </tr>\n",
       "    <tr>\n",
       "      <th>1</th>\n",
       "      <td>112</td>\n",
       "      <td>Albania</td>\n",
       "      <td>4.586</td>\n",
       "      <td>0.916</td>\n",
       "      <td>0.790</td>\n",
       "      <td>0.419</td>\n",
       "      <td>0.149</td>\n",
       "      <td>0.032</td>\n",
       "    </tr>\n",
       "    <tr>\n",
       "      <th>2</th>\n",
       "      <td>84</td>\n",
       "      <td>Algeria</td>\n",
       "      <td>5.295</td>\n",
       "      <td>0.979</td>\n",
       "      <td>0.687</td>\n",
       "      <td>0.077</td>\n",
       "      <td>0.055</td>\n",
       "      <td>0.135</td>\n",
       "    </tr>\n",
       "    <tr>\n",
       "      <th>3</th>\n",
       "      <td>29</td>\n",
       "      <td>Argentina</td>\n",
       "      <td>6.388</td>\n",
       "      <td>1.073</td>\n",
       "      <td>0.744</td>\n",
       "      <td>0.570</td>\n",
       "      <td>0.062</td>\n",
       "      <td>0.054</td>\n",
       "    </tr>\n",
       "    <tr>\n",
       "      <th>4</th>\n",
       "      <td>129</td>\n",
       "      <td>Armenia</td>\n",
       "      <td>4.321</td>\n",
       "      <td>0.816</td>\n",
       "      <td>0.666</td>\n",
       "      <td>0.260</td>\n",
       "      <td>0.077</td>\n",
       "      <td>0.028</td>\n",
       "    </tr>\n",
       "  </tbody>\n",
       "</table>\n",
       "</div>"
      ],
      "text/plain": [
       "   happiness_rank      country  happiness_score  economy  health  freedom  \\\n",
       "0             145  Afghanistan            3.632    0.332   0.255    0.085   \n",
       "1             112      Albania            4.586    0.916   0.790    0.419   \n",
       "2              84      Algeria            5.295    0.979   0.687    0.077   \n",
       "3              29    Argentina            6.388    1.073   0.744    0.570   \n",
       "4             129      Armenia            4.321    0.816   0.666    0.260   \n",
       "\n",
       "   generosity  corruption  \n",
       "0       0.191       0.036  \n",
       "1       0.149       0.032  \n",
       "2       0.055       0.135  \n",
       "3       0.062       0.054  \n",
       "4       0.077       0.028  "
      ]
     },
     "execution_count": 27,
     "metadata": {},
     "output_type": "execute_result"
    }
   ],
   "source": [
    "data_2015 = pd.read_csv(data_2018)\n",
    "data_2015.head(5)"
   ]
  },
  {
   "cell_type": "code",
   "execution_count": 28,
   "metadata": {},
   "outputs": [
    {
     "data": {
      "text/html": [
       "<div>\n",
       "<style scoped>\n",
       "    .dataframe tbody tr th:only-of-type {\n",
       "        vertical-align: middle;\n",
       "    }\n",
       "\n",
       "    .dataframe tbody tr th {\n",
       "        vertical-align: top;\n",
       "    }\n",
       "\n",
       "    .dataframe thead th {\n",
       "        text-align: right;\n",
       "    }\n",
       "</style>\n",
       "<table border=\"1\" class=\"dataframe\">\n",
       "  <thead>\n",
       "    <tr style=\"text-align: right;\">\n",
       "      <th></th>\n",
       "      <th>happiness_rank</th>\n",
       "      <th>country</th>\n",
       "      <th>happiness_score</th>\n",
       "      <th>economy</th>\n",
       "      <th>health</th>\n",
       "      <th>freedom</th>\n",
       "      <th>generosity</th>\n",
       "      <th>corruption</th>\n",
       "    </tr>\n",
       "  </thead>\n",
       "  <tbody>\n",
       "    <tr>\n",
       "      <th>0</th>\n",
       "      <td>154</td>\n",
       "      <td>Afghanistan</td>\n",
       "      <td>3.203</td>\n",
       "      <td>0.350</td>\n",
       "      <td>0.361</td>\n",
       "      <td>0.000</td>\n",
       "      <td>0.158</td>\n",
       "      <td>0.025</td>\n",
       "    </tr>\n",
       "    <tr>\n",
       "      <th>1</th>\n",
       "      <td>107</td>\n",
       "      <td>Albania</td>\n",
       "      <td>4.719</td>\n",
       "      <td>0.947</td>\n",
       "      <td>0.874</td>\n",
       "      <td>0.383</td>\n",
       "      <td>0.178</td>\n",
       "      <td>0.027</td>\n",
       "    </tr>\n",
       "    <tr>\n",
       "      <th>2</th>\n",
       "      <td>88</td>\n",
       "      <td>Algeria</td>\n",
       "      <td>5.211</td>\n",
       "      <td>1.002</td>\n",
       "      <td>0.785</td>\n",
       "      <td>0.086</td>\n",
       "      <td>0.073</td>\n",
       "      <td>0.114</td>\n",
       "    </tr>\n",
       "    <tr>\n",
       "      <th>3</th>\n",
       "      <td>47</td>\n",
       "      <td>Argentina</td>\n",
       "      <td>6.086</td>\n",
       "      <td>1.092</td>\n",
       "      <td>0.881</td>\n",
       "      <td>0.471</td>\n",
       "      <td>0.066</td>\n",
       "      <td>0.050</td>\n",
       "    </tr>\n",
       "    <tr>\n",
       "      <th>4</th>\n",
       "      <td>116</td>\n",
       "      <td>Armenia</td>\n",
       "      <td>4.559</td>\n",
       "      <td>0.850</td>\n",
       "      <td>0.815</td>\n",
       "      <td>0.283</td>\n",
       "      <td>0.095</td>\n",
       "      <td>0.064</td>\n",
       "    </tr>\n",
       "  </tbody>\n",
       "</table>\n",
       "</div>"
      ],
      "text/plain": [
       "   happiness_rank      country  happiness_score  economy  health  freedom  \\\n",
       "0             154  Afghanistan            3.203    0.350   0.361    0.000   \n",
       "1             107      Albania            4.719    0.947   0.874    0.383   \n",
       "2              88      Algeria            5.211    1.002   0.785    0.086   \n",
       "3              47    Argentina            6.086    1.092   0.881    0.471   \n",
       "4             116      Armenia            4.559    0.850   0.815    0.283   \n",
       "\n",
       "   generosity  corruption  \n",
       "0       0.158       0.025  \n",
       "1       0.178       0.027  \n",
       "2       0.073       0.114  \n",
       "3       0.066       0.050  \n",
       "4       0.095       0.064  "
      ]
     },
     "execution_count": 28,
     "metadata": {},
     "output_type": "execute_result"
    }
   ],
   "source": [
    "data_2015 = pd.read_csv(data_2019)\n",
    "data_2015.head(5)"
   ]
  },
  {
   "cell_type": "code",
   "execution_count": 31,
   "metadata": {},
   "outputs": [
    {
     "name": "stdout",
     "output_type": "stream",
     "text": [
      "Written 146 rows into 1 tables in 0.011 seconds\n"
     ]
    },
    {
     "data": {
      "text/plain": [
       "146"
      ]
     },
     "execution_count": 31,
     "metadata": {},
     "output_type": "execute_result"
    }
   ],
   "source": [
    "options = csv_to_sqlite.CsvOptions(typing_style=\"full\", encoding=\"utf-8\") \n",
    "input_files = [\"data/2015.csv\"] # pass in a list of CSV files\n",
    "csv_to_sqlite.write_csv(input_files, \"data_2015.sqlite\", options)"
   ]
  },
  {
   "cell_type": "code",
   "execution_count": 32,
   "metadata": {},
   "outputs": [
    {
     "name": "stdout",
     "output_type": "stream",
     "text": [
      "Written 146 rows into 1 tables in 0.010 seconds\n"
     ]
    },
    {
     "data": {
      "text/plain": [
       "146"
      ]
     },
     "execution_count": 32,
     "metadata": {},
     "output_type": "execute_result"
    }
   ],
   "source": [
    "options = csv_to_sqlite.CsvOptions(typing_style=\"full\", encoding=\"utf-8\") \n",
    "input_files = [\"data/2016.csv\"] # pass in a list of CSV files\n",
    "csv_to_sqlite.write_csv(input_files, \"data_2016.sqlite\", options)"
   ]
  },
  {
   "cell_type": "code",
   "execution_count": 33,
   "metadata": {},
   "outputs": [
    {
     "name": "stdout",
     "output_type": "stream",
     "text": [
      "Written 146 rows into 1 tables in 0.008 seconds\n"
     ]
    },
    {
     "data": {
      "text/plain": [
       "146"
      ]
     },
     "execution_count": 33,
     "metadata": {},
     "output_type": "execute_result"
    }
   ],
   "source": [
    "options = csv_to_sqlite.CsvOptions(typing_style=\"full\", encoding=\"utf-8\") \n",
    "input_files = [\"data/2017.csv\"] # pass in a list of CSV files\n",
    "csv_to_sqlite.write_csv(input_files, \"data_2017.sqlite\", options)"
   ]
  },
  {
   "cell_type": "code",
   "execution_count": 34,
   "metadata": {},
   "outputs": [
    {
     "name": "stdout",
     "output_type": "stream",
     "text": [
      "Written 146 rows into 1 tables in 0.012 seconds\n"
     ]
    },
    {
     "data": {
      "text/plain": [
       "146"
      ]
     },
     "execution_count": 34,
     "metadata": {},
     "output_type": "execute_result"
    }
   ],
   "source": [
    "options = csv_to_sqlite.CsvOptions(typing_style=\"full\", encoding=\"utf-8\") \n",
    "input_files = [\"data/2018.csv\"] # pass in a list of CSV files\n",
    "csv_to_sqlite.write_csv(input_files, \"data_2018.sqlite\", options)"
   ]
  },
  {
   "cell_type": "code",
   "execution_count": 30,
   "metadata": {},
   "outputs": [
    {
     "name": "stdout",
     "output_type": "stream",
     "text": [
      "Written 146 rows into 1 tables in 0.011 seconds\n"
     ]
    },
    {
     "data": {
      "text/plain": [
       "146"
      ]
     },
     "execution_count": 30,
     "metadata": {},
     "output_type": "execute_result"
    }
   ],
   "source": [
    "options = csv_to_sqlite.CsvOptions(typing_style=\"full\", encoding=\"utf-8\") \n",
    "input_files = [\"data/2019.csv\"] # pass in a list of CSV files\n",
    "csv_to_sqlite.write_csv(input_files, \"data_2019.sqlite\", options)"
   ]
>>>>>>> main
  }
 ],
 "metadata": {
  "kernelspec": {
<<<<<<< HEAD
   "display_name": "Python [conda env:PythonData] *",
=======
   "display_name": "Python [conda env:PythonData]",
>>>>>>> main
   "language": "python",
   "name": "conda-env-PythonData-py"
  },
  "language_info": {
   "codemirror_mode": {
    "name": "ipython",
    "version": 3
   },
   "file_extension": ".py",
   "mimetype": "text/x-python",
   "name": "python",
   "nbconvert_exporter": "python",
   "pygments_lexer": "ipython3",
   "version": "3.6.10"
  }
 },
 "nbformat": 4,
 "nbformat_minor": 4
}
